{
  "nbformat": 4,
  "nbformat_minor": 0,
  "metadata": {
    "colab": {
      "provenance": [],
      "authorship_tag": "ABX9TyM/kcGcn8NtrUIpZzC0tkSW",
      "include_colab_link": true
    },
    "kernelspec": {
      "name": "ir",
      "display_name": "R"
    },
    "language_info": {
      "name": "R"
    }
  },
  "cells": [
    {
      "cell_type": "markdown",
      "metadata": {
        "id": "view-in-github",
        "colab_type": "text"
      },
      "source": [
        "<a href=\"https://colab.research.google.com/github/DalilaR/LendingClub/blob/main/Prepare_LendingClub_Data221120.ipynb\" target=\"_parent\"><img src=\"https://colab.research.google.com/assets/colab-badge.svg\" alt=\"Open In Colab\"/></a>"
      ]
    },
    {
      "cell_type": "markdown",
      "source": [
        "# Data Preparation\n",
        "\n",
        "From Data Exploration, we decided on features engineerings for each numerical, categorical and text features.  In here, we implemented the functions to prepare the dataset for scoring"
      ],
      "metadata": {
        "id": "ezBFKPm_GWwO"
      }
    },
    {
      "cell_type": "code",
      "execution_count": null,
      "metadata": {
        "id": "JaE5jO7KSuq9"
      },
      "outputs": [],
      "source": [
        "install.packages(c(\"caret\",\"GGally\"))\n",
        "library(tidyverse)\n",
        "library(caret)\n",
        "library(GGally)"
      ]
    },
    {
      "cell_type": "code",
      "source": [
        "library(tidyverse)\n",
        "\n"
      ],
      "metadata": {
        "id": "5CvYvxUuGC6p"
      },
      "execution_count": null,
      "outputs": []
    },
    {
      "cell_type": "code",
      "source": [
        "check_and_collapse_outliers <- function(val){\n",
        "  '''\n",
        "  check_and_collapse_outliers:  clip outliers to the the 97.5 percentile\n",
        "  val:  numerical vector \n",
        "  '''\n",
        "  qt = quantile(val,probs = 0.975,na.rm= TRUE)\n",
        "  pos <- which(val > qt)\n",
        "  result <- val\n",
        "  result[pos] <- qt\n",
        "  return (result)\n",
        "}\n",
        "\n",
        "prepare_num<- function(tp_df,num_impute){\n",
        "  '''\n",
        "  prepare_num:  pre-process numerical features\n",
        "  tp_df      :  a dataframe\n",
        "  num_impute :  object to impute numerical features.  It has been prepared by\n",
        "                preProcess\n",
        "  result     : tp_df with the new engineered features\n",
        "  \n",
        "  '''\n",
        "        num_cols <- unlist(lapply(tp_df, is.numeric)) \n",
        "        tp_df$total_acc[is.na(tp_df$earliest_cr_line)] <- 0\n",
        "        tp_df$revol_util[is.na(tp_df$earliest_cr_line)] <- 0\n",
        "        tp_df$pub_rec[is.na(tp_df$earliest_cr_line)] <- 0\n",
        "        tp_df$open_acc[is.na(tp_df$earliest_cr_line)]<- 0\n",
        "        tp_df$inq_last_6mths[is.na(tp_df$earliest_cr_line)]<- 0\n",
        "        tp_df$delinq_2yrs[is.na(tp_df$earliest_cr_line)]<- 0\n",
        "        tp_df$mths_since_last_major_derog <- factor(tp_df$mths_since_last_major_derog)\n",
        "\n",
        "        num_cols <- unlist(lapply(tp_df, is.numeric))\n",
        "        nums <- names(tp_df)[num_cols]\n",
        "        ### Get the right impute.  \n",
        "        #num_impute <- readRDS(\"impute_number.rds\")\n",
        "        #num_impute <- preProcess(train_data[,nums],method = (\"medianImpute\"))\n",
        "        tp_df[,num_cols] = predict(num_impute, tp_df[,num_cols])\n",
        "        tp_df$balance_open_acc  <- ifelse(tp_df$open_acc >0, tp_df$revol_bal / tp_df$open_acc,0)\n",
        "        tp_df$income_balance <-  ifelse(tp_df$revol_bal >0, tp_df$annual_inc / tp_df$revol_bal,0)\n",
        "        tp_df$open_total <-  ifelse(tp_df$total_acc > 0, tp_df$open_acc/ tp_df$total_acc,0)\n",
        "        tp_df$pub_rec <- as.factor(tp_df$pub_rec)\n",
        "        num_cols <- unlist(lapply(tp_df, is.numeric))\n",
        "\n",
        "        nums <- names(tp_df)[num_cols]\n",
        "        tp_df$revol_bal <- log(tp_df$revol_bal+1)\n",
        "        tp_df$state_income <- log(tp_df$state_income)\n",
        "        tp_df$balance_open_acc <- log(tp_df$balance_open_acc+1)\n",
        "        tp_df[,nums] <- apply(tp_df[,nums],2, check_and_collapse_outliers)\n",
        "\n",
        "        tp_df$emp_length <- ifelse(tp_df$emp_length>= 11,11, tp_df$emp_length)\n",
        "        tp_df$open_acc <- ifelse(tp_df$open_acc >= 23, 23,tp_df$open_acc)\n",
        "        tp_df$inq_last_6mths <- ifelse(tp_df$inq_last_6mths >= 4, 4,tp_df$inq_last_6mths)\n",
        "        tp_df$delinq_2yrs <- ifelse(tp_df$delinq_2yrs >= 3, 3,tp_df$delinq_2yrs)\n",
        "        tp_df$annual_inc <- log(tp_df$annual_inc)\n",
        "        return (tp_df)\n",
        "}"
      ],
      "metadata": {
        "id": "5CJQld1kGFO8"
      },
      "execution_count": null,
      "outputs": []
    },
    {
      "cell_type": "code",
      "source": [
        "num_impute <- readRDS(\"impute_number.rds\")\n",
        "num_impute"
      ],
      "metadata": {
        "colab": {
          "base_uri": "https://localhost:8080/",
          "height": 102
        },
        "id": "ONU0cs_G1GHk",
        "outputId": "54b6c343-a812-4f35-e49e-bf4384c04a58"
      },
      "execution_count": null,
      "outputs": [
        {
          "output_type": "display_data",
          "data": {
            "text/plain": [
              "Created from 7780 samples and 11 variables\n",
              "\n",
              "Pre-processing:\n",
              "  - ignored (0)\n",
              "  - median imputation (11)\n"
            ]
          },
          "metadata": {}
        }
      ]
    },
    {
      "cell_type": "code",
      "source": [
        "prepare_text<- function(tp_df){\n",
        "  '''\n",
        "  prepare_text:  create a feature Notes_na that is set to 1 if the note is empty, \n",
        "  else it is set to 0, and a feature Note_length that is the log of the length \n",
        "  of the note.  \n",
        "  tp_df       :  dataframe\n",
        "  return      :  dataframe with new features\n",
        "  '''\n",
        "  \n",
        "        tp_df$Notes_na <- ifelse(is.na(tp_df$Notes),1,0)\n",
        "        tp_df$Note_na <- str_replace(tp_df$Notes,\"Borrower added on \\\\d{2}/\\\\d{2}/\\\\d{2} >\",\"\")\n",
        "        tp_df$Note_length <- str_length(tp_df$Notes)\n",
        "        tp_df$Note_length[is.na(tp_df$Note_length)] <- 0\n",
        "        tp_df$Note_length<- log(tp_df$Note_length+1)\n",
        "        return (tp_df)\n",
        "\n",
        "}"
      ],
      "metadata": {
        "id": "nyHhz51xudQc"
      },
      "execution_count": null,
      "outputs": []
    },
    {
      "cell_type": "code",
      "source": [
        "prepare_date <- function(tp_df){\n",
        "  '''\n",
        "  prepare_date:  derive years_of_cr_line from the difference in years between the max_date and the earliest_cr_line\n",
        "  tp_df       :  dataframe\n",
        "  return      :  tp_df with the new feature\n",
        "\n",
        "  Note:  In real-life project, we would have defined the most current earliest_cr_line, \n",
        "  but in this case, for simplicity, we just assume it it the most current one\n",
        "  '''\n",
        "\n",
        "       #tp_df$earliest_cr_line <- as.Date(tp_df$earliest_cr_line,format= \"%Y-%m-%d\")\n",
        "       max_date <- max(tp_df$earliest_cr_line,na.rm = TRUE)\n",
        "       tp_df$years_of_cr_line <-  ifelse(!is.na(tp_df$earliest_cr_line),as.double(difftime(max_date ,tp_df$earliest_cr_line,units= \"days\"))/365,NA_real_)\n",
        "       tp_df$years_of_cr_line[(tp_df$years_of_cr_line > 0) & (tp_df$years_of_cr_line < 1)] <- 1\n",
        "       tp_df[,c(\"years_of_cr_line\")] <- predict(impute_year, tp_df[,c(\"years_of_cr_line\")])\n",
        "       return (tp_df)\n",
        "\n",
        "}"
      ],
      "metadata": {
        "id": "V4q1L_iXwNa7"
      },
      "execution_count": null,
      "outputs": []
    },
    {
      "cell_type": "code",
      "source": [
        "prepare_categorical<-function(tp_df){\n",
        "  '''\n",
        "  prepare_categorical:  change some numerical features to factors, and combine\n",
        "  some classes (levels) of some features\n",
        "  tp_df              :  dataframe\n",
        "  return             :  tp_df with the new features\n",
        "  '''\n",
        "\n",
        "        to_factor <- c(\"emp_length\",\"open_acc\",\"inq_last_6mths\",\"delinq_2yrs\",\"mths_since_last_major_derog\")\n",
        "        tp_df[,to_factor] <- lapply(tp_df[to_factor], as.factor) \n",
        "\n",
        "        tp_df <- tp_df[tp_df$home_ownership != \"NONE\",]\n",
        "        tp_df$home_ownership <- droplevels(tp_df$home_ownership)\n",
        "        purpose_table <- read_csv(\"purpose_lookup_table.csv\")\n",
        "        purpose_table <- purpose_table %>% column_to_rownames(., var = \"cat\")\n",
        "        tp_df$purpose_cat_clean <- purpose_table$new_cat[tp_df$purpose_cat]\n",
        "        tp_df$purpose_cat_clean <- as.factor(tp_df$purpose_cat_clean)\n",
        "        print(dim(tp_df))\n",
        "        return(tp_df)\n",
        "}"
      ],
      "metadata": {
        "id": "BzJYtiryxYvB"
      },
      "execution_count": null,
      "outputs": []
    },
    {
      "cell_type": "markdown",
      "source": [],
      "metadata": {
        "id": "AnJINXEKKUuG"
      }
    },
    {
      "cell_type": "code",
      "source": [
        "train_data <- read_csv(\"training_data_ready.csv\")"
      ],
      "metadata": {
        "id": "rJECkQNHwNEE"
      },
      "execution_count": null,
      "outputs": []
    },
    {
      "cell_type": "code",
      "source": [
        "\n",
        "test_data <- read_csv(\"test_data.csv\")"
      ],
      "metadata": {
        "id": "WF6X0AOz02T4"
      },
      "execution_count": null,
      "outputs": []
    },
    {
      "cell_type": "code",
      "source": [
        "\n",
        "factor_cols <- c(\"home_ownership\",\"verification_status\",\"purpose_cat\",\"policy_code\")\n",
        "test_data[,factor_cols] <- lapply(test_data[,factor_cols],as.factor)\n",
        "tp_df <- prepare_date(test_data)\n",
        "tp_df <- prepare_num(tp_df,num_impute)\n",
        "tp_df <- prepare_categorical(tp_df)\n",
        "tp_df <- prepare_text(tp_df)\n",
        "\n",
        "write_csv(tp_df,\"test_data_ready221120.csv\")"
      ],
      "metadata": {
        "id": "d-5SpdKA6FnL"
      },
      "execution_count": null,
      "outputs": []
    },
    {
      "cell_type": "code",
      "source": [
        "str(tp_df)"
      ],
      "metadata": {
        "colab": {
          "base_uri": "https://localhost:8080/"
        },
        "id": "CztqaUMo6RG3",
        "outputId": "2562d7ce-dbe4-4d3e-8a5a-134b90afef2a"
      },
      "execution_count": null,
      "outputs": [
        {
          "output_type": "stream",
          "name": "stdout",
          "text": [
            "tibble [1,999 × 36] (S3: tbl_df/tbl/data.frame)\n",
            " $ Id                         : num [1:1999] 5 7 10 20 24 32 33 36 39 57 ...\n",
            " $ is_bad                     : num [1:1999] 0 0 0 0 0 0 0 0 0 0 ...\n",
            " $ emp_title                  : chr [1:1999] \"Belmont Correctional\" \"Peninsula Counseling Center\" NA \"Office of the Federal Defender\" ...\n",
            " $ emp_length                 : Factor w/ 10 levels \"1\",\"2\",\"3\",\"4\",..: 10 10 1 3 1 3 5 2 3 3 ...\n",
            " $ home_ownership             : Factor w/ 4 levels \"MORTGAGE\",\"OTHER\",..: 1 1 4 1 1 1 4 4 3 3 ...\n",
            " $ annual_inc                 : num [1:1999] 50004 126000 40000 120000 191000 ...\n",
            " $ verification_status        : Factor w/ 3 levels \"not verified\",..: 2 1 1 3 1 2 1 2 1 2 ...\n",
            " $ pymnt_plan                 : chr [1:1999] \"n\" \"n\" \"n\" \"n\" ...\n",
            " $ Notes                      : chr [1:1999] \"I want to consolidate my debt, pay for a vacation and buy a ring.\" \"Borrower added on 05/18/10 > mick credit card consolidation loan - 100% payoff of credit card debt - amex, sear\"| __truncated__ \"This loan would be for a 2006 PT Cruiser with only 300 miles on it. There is still a full warranty till Dec. 2009 in effect.\" \"Borrower added on 08/30/11 > I need a downpayment loan to purchase my second real estate investment property.<br/>\" ...\n",
            " $ purpose_cat                : Factor w/ 19 levels \"car\",\"credit card\",..: 4 2 1 9 6 4 4 2 4 4 ...\n",
            " $ purpose                    : chr [1:1999] \"consolidate\" \"mick credit card loan\" \"FICO score 762 want's to buy a new car\" \"Home Loan Downpayment\" ...\n",
            " $ zip_code                   : chr [1:1999] \"439xx\" \"103xx\" \"926xx\" \"606xx\" ...\n",
            " $ debt_to_income             : num [1:1999] 19.03 14.28 6.48 5.22 12.2 ...\n",
            " $ delinq_2yrs                : Factor w/ 3 levels \"0\",\"1\",\"2\": 1 1 1 2 1 1 1 1 1 2 ...\n",
            " $ earliest_cr_line           : Date[1:1999], format: \"1999-10-01\" \"1979-11-01\" ...\n",
            " $ inq_last_6mths             : Factor w/ 5 levels \"0\",\"1\",\"2\",\"3\",..: 5 1 2 4 1 3 1 1 2 2 ...\n",
            " $ mths_since_last_delinq     : num [1:1999] NA NA NA 13 49 52 39 NA NA 19 ...\n",
            " $ mths_since_last_record     : num [1:1999] NA NA NA NA NA NA NA NA NA NA ...\n",
            " $ open_acc                   : Factor w/ 21 levels \"0\",\"1\",\"2\",\"3\",..: 9 19 12 6 17 11 7 9 9 10 ...\n",
            " $ pub_rec                    : Factor w/ 3 levels \"0\",\"1\",\"2\": 1 1 1 1 1 1 1 1 1 1 ...\n",
            " $ revol_bal                  : num [1:1999] 9.28 8.61 9.9 10.82 6.1 ...\n",
            " $ revol_util                 : num [1:1999] 40.4 11.1 18.3 0 2.5 36.2 61.9 54.3 72.8 70.9 ...\n",
            " $ total_acc                  : num [1:1999] 21 29 23 36 50 13 12 26 18 32 ...\n",
            " $ initial_list_status        : chr [1:1999] \"f\" \"f\" \"f\" \"f\" ...\n",
            " $ collections_12_mths_ex_med : num [1:1999] 0 0 0 0 0 0 0 0 0 0 ...\n",
            " $ mths_since_last_major_derog: Factor w/ 3 levels \"1\",\"2\",\"3\": 3 3 1 1 2 2 3 1 3 2 ...\n",
            " $ policy_code                : Factor w/ 5 levels \"PC1\",\"PC2\",\"PC3\",..: 3 1 5 1 1 3 4 3 4 4 ...\n",
            " $ state_income               : num [1:1999] 11 11.2 11.3 11.3 11 ...\n",
            " $ years_of_cr_line           : num [1:1999] 8.84 28.77 13.26 11.67 21.44 ...\n",
            " $ balance_open_acc           : num [1:1999] 7.2 5.72 7.51 8.86 3.36 ...\n",
            " $ income_balance             : num [1:1999] 4.66 23.05 2 2.41 155.07 ...\n",
            " $ open_total                 : num [1:1999] 0.381 0.621 0.478 0.139 0.296 ...\n",
            " $ purpose_cat_clean          : Factor w/ 4 levels \"debt consolidation\",..: 4 4 3 2 4 4 4 4 4 4 ...\n",
            " $ Notes_na                   : num [1:1999] 0 0 0 0 0 0 0 1 0 0 ...\n",
            " $ Note_na                    : chr [1:1999] \"I want to consolidate my debt, pay for a vacation and buy a ring.\" \" mick credit card consolidation loan - 100% payoff of credit card debt - amex, sears, macys and bank of america<br/>\" \"This loan would be for a 2006 PT Cruiser with only 300 miles on it. There is still a full warranty till Dec. 2009 in effect.\" \" I need a downpayment loan to purchase my second real estate investment property.<br/>\" ...\n",
            " $ Note_length                : num [1:1999] 65 144 124 114 250 156 349 0 550 459 ...\n"
          ]
        }
      ]
    }
  ]
}